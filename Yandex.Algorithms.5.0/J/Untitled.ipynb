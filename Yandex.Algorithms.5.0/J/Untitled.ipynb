{
 "cells": [
  {
   "cell_type": "code",
   "execution_count": 5,
   "id": "58a5b6e0-4934-4676-ae92-02a4e370ff65",
   "metadata": {},
   "outputs": [
    {
     "name": "stdin",
     "output_type": "stream",
     "text": [
      " 4\n",
      " 1 3\n",
      " 3 1\n",
      " 3 5\n",
      " 6 3\n"
     ]
    },
    {
     "name": "stdout",
     "output_type": "stream",
     "text": [
      "1 1 6 5\n"
     ]
    }
   ],
   "source": [
    "n = int(input())\n",
    "\n",
    "coords = [float('inf'), float('inf'), -float('inf'), -float('inf')]\n",
    "for _ in range(n):\n",
    "  x, y = map(int, input().split())\n",
    "  if x < coords[0]:\n",
    "    coords[0] = x\n",
    "  if y < coords[1]:\n",
    "    coords[1] = y\n",
    "  if x > coords[2]:\n",
    "    coords[2] = x\n",
    "  if y > coords[3]:\n",
    "    coords[3] = y\n",
    "\n",
    "print(' '.join(map(str, coords)))"
   ]
  },
  {
   "cell_type": "code",
   "execution_count": 18,
   "id": "e70dd951-b3dd-4998-b065-5443566a7048",
   "metadata": {},
   "outputs": [
    {
     "name": "stdin",
     "output_type": "stream",
     "text": [
      " 5 2\n",
      " 1 2 3 4 5\n"
     ]
    },
    {
     "name": "stdout",
     "output_type": "stream",
     "text": [
      "2\n"
     ]
    }
   ],
   "source": [
    "def read_ints():\n",
    "    return map(int, input().split(' '))\n",
    "\n",
    "\n",
    "n, k = read_ints()\n",
    "days = list(read_ints())\n",
    "result = 0\n",
    "\n",
    "for step in range(1, k + 1):\n",
    "    for i in range(0, n - step):\n",
    "        price = days[i + step] - days[i]\n",
    "        if price > result:\n",
    "            result = price\n",
    "\n",
    "print(result)"
   ]
  },
  {
   "cell_type": "code",
   "execution_count": 22,
   "id": "e8b909f0-2083-4a08-a27a-58789566e8d4",
   "metadata": {},
   "outputs": [
    {
     "name": "stdin",
     "output_type": "stream",
     "text": [
      " 4\n",
      " 1 5 2 1\n"
     ]
    },
    {
     "name": "stdout",
     "output_type": "stream",
     "text": [
      "1\n"
     ]
    }
   ],
   "source": [
    "def read_ints():\n",
    "    return map(int, input().split(' '))\n",
    "\n",
    "\n",
    "n = int(input())\n",
    "pices = list(read_ints())\n",
    "\n",
    "total = sum(pices)\n",
    "longest = max(pices)\n",
    "\n",
    "if longest * 2 > total:\n",
    "    print(longest * 2 - total)\n",
    "else:\n",
    "    print(total)"
   ]
  },
  {
   "cell_type": "code",
   "execution_count": 40,
   "id": "822b258a-96fd-4703-a0f6-fa8649bf651d",
   "metadata": {},
   "outputs": [
    {
     "name": "stdin",
     "output_type": "stream",
     "text": [
      " 10\n",
      " 1 1\n",
      " 2 1\n",
      " 2 2\n",
      " 3 2\n",
      " 3 3\n",
      " 3 4\n",
      " 3 5\n",
      " 3 6\n",
      " 4 2\n",
      " 4 4\n"
     ]
    },
    {
     "name": "stdout",
     "output_type": "stream",
     "text": [
      "22\n"
     ]
    }
   ],
   "source": [
    "def read_ints():\n",
    "    return map(int, input().split(' '))\n",
    "\n",
    "\n",
    "n = int(input())\n",
    "cells = set()\n",
    "for _ in range(n):\n",
    "    x, y = read_ints()\n",
    "    cells.add((y - 1, x - 1))\n",
    "\n",
    "perimeter = 0\n",
    "for i, j in cells:\n",
    "    perimeter += 4\n",
    "\n",
    "    # top\n",
    "    if i > 0 and (i - 1, j) in cells:\n",
    "        perimeter -= 1\n",
    "\n",
    "    # left\n",
    "    if j > 0 and (i, j - 1) in cells:\n",
    "        perimeter -= 1\n",
    "\n",
    "    # bottom\n",
    "    if i < 7 and (i + 1, j) in cells:\n",
    "        perimeter -= 1\n",
    "\n",
    "    # right\n",
    "    if j < 7 and (i, j + 1) in cells:\n",
    "        perimeter -= 1\n",
    "\n",
    "print(perimeter)"
   ]
  },
  {
   "cell_type": "code",
   "execution_count": 119,
   "id": "ada0194c-3789-4a8a-87ef-ebcb70e758a0",
   "metadata": {},
   "outputs": [
    {
     "name": "stdin",
     "output_type": "stream",
     "text": [
      " 2\n",
      " 1000 9999\n",
      " 10 9\n"
     ]
    },
    {
     "name": "stdout",
     "output_type": "stream",
     "text": [
      "1001\n",
      "2 1\n"
     ]
    }
   ],
   "source": [
    "def read_ints():\n",
    "    return map(int, input().split(' '))\n",
    "\n",
    "\n",
    "n = int(input())\n",
    "diffs = []\n",
    "for i in range(n):\n",
    "    a, b = read_ints()\n",
    "    diffs.append((a - b, a, b, i))\n",
    "\n",
    "ordered_diffs = list(sorted(diffs, reverse=True))\n",
    "\n",
    "height = highest_point = 0\n",
    "for idx, (diff, a, b, i) in enumerate(ordered_diffs):\n",
    "    height += a\n",
    "    if height > highest_point:\n",
    "        highest_point = height\n",
    "    height -= b\n",
    "\n",
    "print(highest_point)\n",
    "print(' '.join(str(i + 1) for diff, a, b, i in ordered_diffs))"
   ]
  },
  {
   "cell_type": "code",
   "execution_count": 97,
   "id": "d041fe11-5a3e-48d8-a737-fbc6ae56ac72",
   "metadata": {},
   "outputs": [
    {
     "name": "stdin",
     "output_type": "stream",
     "text": [
      " 8\n",
      " 0 1 2 3 4 5 6 7\n",
      " 6 15 1\n"
     ]
    },
    {
     "name": "stdout",
     "output_type": "stream",
     "text": [
      "7\n"
     ]
    }
   ],
   "source": [
    "import math\n",
    "\n",
    "def read_ints():\n",
    "    return map(int, input().split(' '))\n",
    "\n",
    "\n",
    "n = int(input())\n",
    "sectors = list(read_ints())\n",
    "a, b, k = read_ints()\n",
    "\n",
    "min_steps = math.ceil(a / k) - 1\n",
    "max_steps = math.ceil(b / k) - 1\n",
    "\n",
    "if max_steps - min_steps >= n:\n",
    "    min_steps, max_steps = 0, n - 1\n",
    "\n",
    "min_steps %= n\n",
    "max_steps %= n\n",
    "\n",
    "if max_steps < min_steps:\n",
    "    clockwise = sectors[:max_steps + 1] + sectors[min_steps:]\n",
    "    anticlockwise = sectors[:n - min_steps + 1] + sectors[n - max_steps:]\n",
    "else:\n",
    "    clockwise = sectors[min_steps:max_steps + 1]\n",
    "    anticlockwise = sectors[n - max_steps:n - max(min_steps - 1, 0)]\n",
    "print(max(clockwise + anticlockwise))"
   ]
  },
  {
   "cell_type": "code",
   "execution_count": null,
   "id": "9caa6b2e-1862-43ae-b7de-1732d1d252e7",
   "metadata": {},
   "outputs": [],
   "source": []
  },
  {
   "cell_type": "code",
   "execution_count": null,
   "id": "f2fe7667-453d-4e0c-bcf6-feb3b3bd3e63",
   "metadata": {},
   "outputs": [],
   "source": [
    "def read_ints():\n",
    "    return map(int, input().split(' '))\n",
    "\n",
    "\n",
    "races, classes = read_ints()\n",
    "powers = [\n",
    "    (power, race, class_) \n",
    "    for class_, power in enumerate(read_ints())\n",
    "    for race in range(races)\n",
    "]\n",
    "\n",
    "_, race, class_ = max(powers)\n",
    "powers.pop(race)\n",
    "for line in powers:\n",
    "    line.pop(class_)\n",
    "\n"
   ]
  },
  {
   "cell_type": "code",
   "execution_count": null,
   "id": "7a451cb1-9cd6-4f1b-9d48-2f6af563839a",
   "metadata": {},
   "outputs": [],
   "source": []
  },
  {
   "cell_type": "code",
   "execution_count": 109,
   "id": "2c1430ca-9ff6-4484-bce4-bfbd51957c69",
   "metadata": {},
   "outputs": [
    {
     "name": "stdin",
     "output_type": "stream",
     "text": [
      " 1 1\n"
     ]
    }
   ],
   "source": [
    "import sys\n",
    "from typing import List, Tuple, Iterable\n",
    "\n",
    "type Pair[T] = Tuple[T, T]\n",
    "type Field = Iterable[str]\n",
    "\n",
    "def read_ints() -> Pair[int]:\n",
    "    return map(int, input().split(' '))\n",
    "\n",
    "\n",
    "def str_to_field(x: str) -> Field:\n",
    "    return x.strip().split('\\n')\n",
    "\n",
    "\n",
    "LEFT_TOP_EDGE_KERNEL = '''\n",
    "..\n",
    ".#\n",
    "'''\n",
    "RIGHT_BOTTOM_EDGE_KERNEL = '''\n",
    "#.\n",
    "..\n",
    "'''\n",
    "\n",
    "\n",
    "def get_size(matrix: Field) -> Pair[int]:\n",
    "    return len(matrix), len(matrix[0])\n",
    "\n",
    "def match_kernel(field: Field, kernel: Field, y: int, x: int) -> bool:\n",
    "    kh, kw = get_size(kernel)\n",
    "    return all(\n",
    "        field[y + i][x + j] == kernel[i][j]\n",
    "        for i in range(kh)\n",
    "        for j in range(kw)\n",
    "    )       \n",
    "\n",
    "def find_kernel(field: Field, kernel: Field, reverse=False) -> Pair[int]:\n",
    "    h, w = get_size(field)\n",
    "    kh, kw = get_size(kernel)\n",
    "    indexes = ((y, x) for y in range(h - kh + 1) for x in range(w - kw + 1))\n",
    "    if reverse:\n",
    "        indexes = reversed(indexes)\n",
    "    for y, x in indexes:\n",
    "        if match_kernel(field, kernel, y, x):\n",
    "            return y, x\n",
    "\n",
    "m, n = read_ints()\n",
    "field = ['.'*(n+2), *('.' + input() + '.' for _ in range(m)), '.'*(n+2)]\n",
    "\n",
    "lt_kernel = str_to_field(LEFT_TOP_EDGE_KERNEL)\n",
    "rb_kernel = str_to_field(RIGHT_BOTTOM_EDGE_KERNEL)\n",
    "\n",
    "find_kernel(field, lt_kernel),\n",
    "find_kernel(field, rb_kernel)\n"
   ]
  }
 ],
 "metadata": {
  "kernelspec": {
   "display_name": "Python 3 (ipykernel)",
   "language": "python",
   "name": "python3"
  },
  "language_info": {
   "codemirror_mode": {
    "name": "ipython",
    "version": 3
   },
   "file_extension": ".py",
   "mimetype": "text/x-python",
   "name": "python",
   "nbconvert_exporter": "python",
   "pygments_lexer": "ipython3",
   "version": "3.12.1"
  }
 },
 "nbformat": 4,
 "nbformat_minor": 5
}
